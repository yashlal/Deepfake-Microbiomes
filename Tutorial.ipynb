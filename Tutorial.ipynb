{
 "cells": [
  {
   "cell_type": "markdown",
   "id": "patient-pilot",
   "metadata": {},
   "source": [
    "# Tutorial on the use of a Pairwise Model for Community Prediction"
   ]
  },
  {
   "cell_type": "markdown",
   "id": "removable-virgin",
   "metadata": {},
   "source": [
    "This notebook will walk you through the steps of making predictions of community composition using pairwise equilibrium data and the model published in Gjini \\& Madec, 2021: https://www.biorxiv.org/content/10.1101/2021.01.17.426995v1.abstract."
   ]
  },
  {
   "cell_type": "markdown",
   "id": "loving-parent",
   "metadata": {},
   "source": [
    "Imports:"
   ]
  },
  {
   "cell_type": "code",
   "execution_count": 1,
   "id": "experienced-lounge",
   "metadata": {},
   "outputs": [],
   "source": [
    "import numpy as np\n",
    "import pandas as pd\n",
    "import os\n",
    "import matplotlib.pyplot as plt\n",
    "import pickle\n",
    "import seaborn as sb"
   ]
  },
  {
   "cell_type": "markdown",
   "id": "attractive-romania",
   "metadata": {},
   "source": [
    "Import of this module"
   ]
  },
  {
   "cell_type": "code",
   "execution_count": 2,
   "id": "unnecessary-hazard",
   "metadata": {},
   "outputs": [],
   "source": [
    "from predict_by_model import *"
   ]
  },
  {
   "cell_type": "markdown",
   "id": "entitled-catalyst",
   "metadata": {},
   "source": [
    "## Part 1: Prediction of c. diff engraftment in mice."
   ]
  },
  {
   "cell_type": "markdown",
   "id": "talented-throat",
   "metadata": {},
   "source": [
    "In part 1 of this tutorial, we will predict c. diff engraftment on mice for which we have 16s community data. Community data is given as a .csv file called *Cdif_mice_high_vs_low_risk.species.tsv* whose columns correspond to mice and rows correspond to taxa, and entries corresponding to read counts.\n",
    "\n",
    "To do this, we will use the predictions of pairwise metabolic modeling with resource allocation constraints as \"observed\" pairwise experiments. These \"observations\" can be found in *Pairwise_Chemostat.xlsx*.\n",
    "\n",
    "For this data, we require a function to parse the taxa labels into something that matches our pairwise equilibrium data."
   ]
  },
  {
   "cell_type": "code",
   "execution_count": 3,
   "id": "illegal-adolescent",
   "metadata": {},
   "outputs": [],
   "source": [
    "def GetStrn(strg):\n",
    "    s1 = strg.split(\";\")[-1]\n",
    "    s2 = \"_\".join(s1.split(\"__\")[1:])\n",
    "    return s2"
   ]
  },
  {
   "cell_type": "markdown",
   "id": "blessed-cornwall",
   "metadata": {},
   "source": [
    "We create a directory to store the output of the prediction:"
   ]
  },
  {
   "cell_type": "code",
   "execution_count": 4,
   "id": "ordinary-constraint",
   "metadata": {},
   "outputs": [],
   "source": [
    "dirname = \"Tutorial\"\n",
    "try:\n",
    "    os.mkdir(dirname)\n",
    "except:\n",
    "    pass"
   ]
  },
  {
   "cell_type": "markdown",
   "id": "diverse-investigation",
   "metadata": {},
   "source": [
    "Next we load and parse the communities we wish to predict on, "
   ]
  },
  {
   "cell_type": "code",
   "execution_count": 5,
   "id": "seventh-macedonia",
   "metadata": {},
   "outputs": [],
   "source": [
    "miceData = pd.read_csv(\"Cdiff_mice_high_vs_low_risk.species.tsv\",sep = '\\t')\n",
    "Experiments = miceData.columns[np.where(['WK' in colnm for colnm in miceData.columns])]\n",
    "species = miceData.species.apply(GetStrn)"
   ]
  },
  {
   "cell_type": "markdown",
   "id": "advance-mining",
   "metadata": {},
   "source": [
    "and create a pandas DataFrame object to store the results."
   ]
  },
  {
   "cell_type": "code",
   "execution_count": 6,
   "id": "premier-candidate",
   "metadata": {},
   "outputs": [],
   "source": [
    "predictions = pd.DataFrame(index =  Experiments, columns = [\"Invasion\",\"CDiffDelta\",\"Resistance\",\"CDiffResistance\",\"CDiffPromotion\",\"InitialCDiffGrowth\",\"SpeciesFound\",\"SpeciesListed\",\"ReadProportion\"])"
   ]
  },
  {
   "cell_type": "markdown",
   "id": "weird-clearing",
   "metadata": {},
   "source": [
    "To make our predictions, we must provide a set of \"observed\" equilibrium relative abundances from pairwise growth experiments. This file should have rows \\& columns corresponding to taxa, and include all taxa present in the communities, if possible. The module will attempt to match the taxa names from the community data file (miceData) to these labels, and will return the number found and the proportion of reads covered by those found."
   ]
  },
  {
   "cell_type": "code",
   "execution_count": 7,
   "id": "requested-affiliation",
   "metadata": {},
   "outputs": [],
   "source": [
    "ObservationFile =  \"Pairwise_Chemostat.xlsx\" #This should be an excel file with a sheet labeled \"Relative_Abundance\""
   ]
  },
  {
   "cell_type": "markdown",
   "id": "organic-temple",
   "metadata": {},
   "source": [
    "The main function uses an *Experiment* object which has the attributes \"Community\" and \"Invader\". The community should be a list of community members (e.g. parsed rows of miceData with number of reads above some threshhold), and invader the name of a invading taxa.\n",
    "\n",
    "Here, we trim the communities by read proportion over 0.1\\%"
   ]
  },
  {
   "cell_type": "code",
   "execution_count": 8,
   "id": "moral-survivor",
   "metadata": {},
   "outputs": [
    {
     "name": "stdout",
     "output_type": "stream",
     "text": [
      "Generating Lambdas\n",
      "Bacteroides_salanitronis not found\n",
      "Barnesiella_viscericola not found\n",
      "Prevotella_buccalis not found\n",
      "Prevotella_sp._109 not found\n",
      "Alistipes_obesi not found\n",
      "Clostridia_bacterium_UC5.1-1D1 not found\n",
      "[Ruminococcus]_torques not found\n",
      "[Clostridium]_celerecrescens not found\n",
      "Erysipelatoclostridium_ramosum not found\n",
      "Found 19/29 community members.\n",
      "Computing Community Equilibrium\n",
      "Simulating Invasion\n",
      "Generating Lambdas\n",
      "Bacteroides_salanitronis not found\n",
      "Barnesiella_viscericola not found\n",
      "Prevotella_buccalis not found\n",
      "Prevotella_sp._109 not found\n",
      "Alistipes_obesi not found\n",
      "Clostridia_bacterium_UC5.1-1D1 not found\n",
      "[Ruminococcus]_torques not found\n",
      "[Clostridium]_celerecrescens not found\n",
      "Erysipelatoclostridium_ramosum not found\n",
      "Found 18/28 community members.\n",
      "Computing Community Equilibrium\n",
      "Simulating Invasion\n",
      "Generating Lambdas\n",
      "Bacteroides_salanitronis not found\n",
      "Barnesiella_viscericola not found\n",
      "Prevotella_buccalis not found\n",
      "Prevotella_sp._109 not found\n",
      "Alistipes_obesi not found\n",
      "Clostridia_bacterium_UC5.1-1D1 not found\n",
      "[Ruminococcus]_torques not found\n",
      "[Clostridium]_celerecrescens not found\n",
      "Erysipelatoclostridium_ramosum not found\n",
      "Found 19/29 community members.\n",
      "Computing Community Equilibrium\n",
      "Simulating Invasion\n",
      "Generating Lambdas\n",
      "Bacteroides_salanitronis not found\n",
      "Barnesiella_viscericola not found\n",
      "Prevotella_buccalis not found\n",
      "Prevotella_sp._109 not found\n",
      "Alistipes_obesi not found\n",
      "Clostridia_bacterium_UC5.1-1D1 not found\n",
      "[Ruminococcus]_torques not found\n",
      "[Clostridium]_celerecrescens not found\n",
      "Erysipelatoclostridium_ramosum not found\n",
      "Found 18/28 community members.\n",
      "Computing Community Equilibrium\n",
      "Simulating Invasion\n",
      "Generating Lambdas\n",
      "Bacteroides_salanitronis not found\n",
      "Barnesiella_viscericola not found\n",
      "Coprobacter_fastidiosus not found\n",
      "Prevotella_buccalis not found\n",
      "Prevotella_sp._109 not found\n",
      "Alistipes_obesi not found\n",
      "Clostridia_bacterium_UC5.1-1D1 not found\n",
      "[Ruminococcus]_torques not found\n",
      "[Clostridium]_celerecrescens not found\n",
      "Erysipelatoclostridium_ramosum not found\n",
      "Found 18/29 community members.\n",
      "Computing Community Equilibrium\n",
      "Simulating Invasion\n",
      "Generating Lambdas\n",
      "Bacteroides_salanitronis not found\n",
      "Barnesiella_viscericola not found\n",
      "Coprobacter_fastidiosus not found\n",
      "Prevotella_buccalis not found\n",
      "Prevotella_sp._109 not found\n",
      "Alistipes_obesi not found\n",
      "Clostridia_bacterium_UC5.1-1D1 not found\n",
      "[Ruminococcus]_torques not found\n",
      "[Clostridium]_celerecrescens not found\n",
      "Erysipelatoclostridium_ramosum not found\n",
      "Found 17/28 community members.\n",
      "Computing Community Equilibrium\n",
      "Simulating Invasion\n",
      "Generating Lambdas\n",
      "Cellulomonas_carbonis not found\n",
      "Bacteroides_faecichinchillae not found\n",
      "Clostridium_sp._KLE_1755 not found\n",
      "Clostridium_sp._M62/1 not found\n",
      "Hungatella_hathewayi not found\n",
      "Blautia_sp._KLE_1732 not found\n",
      "[Ruminococcus]_torques not found\n",
      "Eisenbergiella_tayi not found\n",
      "[Clostridium]_bolteae not found\n",
      "[Clostridium]_citroniae not found\n",
      "[Clostridium]_symbiosum not found\n",
      "[Clostridium]_lactatifermentans not found\n",
      "Oscillibacter_sp._KLE_1745 not found\n",
      "Ruthenibacterium_lactatiformans not found\n",
      "Dielma_fastidiosa not found\n",
      "[Clostridium]_innocuum not found\n",
      "Found 33/49 community members.\n",
      "Computing Community Equilibrium\n",
      "Simulating Invasion\n",
      "Generating Lambdas\n",
      "Cellulomonas_carbonis not found\n",
      "Clostridiales_bacterium_1_7_47FAA not found\n",
      "Clostridium_sp._KLE_1755 not found\n",
      "Clostridium_sp._M62/1 not found\n",
      "Hungatella_hathewayi not found\n",
      "Blautia_sp._KLE_1732 not found\n",
      "[Ruminococcus]_torques not found\n",
      "Eisenbergiella_tayi not found\n",
      "[Clostridium]_bolteae not found\n",
      "[Clostridium]_citroniae not found\n",
      "[Clostridium]_symbiosum not found\n",
      "[Clostridium]_lactatifermentans not found\n",
      "Oscillibacter_sp._KLE_1745 not found\n",
      "Ruthenibacterium_lactatiformans not found\n",
      "Dielma_fastidiosa not found\n",
      "[Clostridium]_innocuum not found\n",
      "Found 31/47 community members.\n",
      "Computing Community Equilibrium\n",
      "Simulating Invasion\n",
      "Generating Lambdas\n",
      "Cellulomonas_carbonis not found\n",
      "Clostridium_sp._KLE_1755 not found\n",
      "Clostridium_sp._M62/1 not found\n",
      "Hungatella_hathewayi not found\n",
      "Blautia_sp._KLE_1732 not found\n",
      "Eisenbergiella_tayi not found\n",
      "[Clostridium]_bolteae not found\n",
      "[Clostridium]_citroniae not found\n",
      "[Clostridium]_symbiosum not found\n",
      "[Clostridium]_lactatifermentans not found\n",
      "Oscillibacter_sp._KLE_1745 not found\n",
      "Ruthenibacterium_lactatiformans not found\n",
      "Dielma_fastidiosa not found\n",
      "Found 35/48 community members.\n",
      "Computing Community Equilibrium\n",
      "Simulating Invasion\n",
      "Generating Lambdas\n",
      "Cellulomonas_carbonis not found\n",
      "Bacteroides_faecichinchillae not found\n",
      "Coprobacter_fastidiosus not found\n",
      "Clostridium_sp._KLE_1755 not found\n",
      "Clostridium_sp._M62/1 not found\n",
      "Hungatella_hathewayi not found\n",
      "Blautia_sp._KLE_1732 not found\n",
      "[Ruminococcus]_torques not found\n",
      "Eisenbergiella_tayi not found\n",
      "[Clostridium]_bolteae not found\n",
      "[Clostridium]_citroniae not found\n",
      "[Clostridium]_symbiosum not found\n",
      "[Clostridium]_lactatifermentans not found\n",
      "Oscillibacter_sp._KLE_1745 not found\n",
      "Ruthenibacterium_lactatiformans not found\n",
      "Dielma_fastidiosa not found\n",
      "Found 34/50 community members.\n",
      "Computing Community Equilibrium\n",
      "Simulating Invasion\n",
      "Generating Lambdas\n",
      "Cellulomonas_carbonis not found\n",
      "Bacteroides_faecichinchillae not found\n",
      "Alistipes_ihumii not found\n",
      "Alistipes_obesi not found\n",
      "Clostridiales_bacterium_1_7_47FAA not found\n",
      "Intestinimonas_butyriciproducens not found\n",
      "Clostridium_phoceensis not found\n",
      "Clostridium_sp._KLE_1755 not found\n",
      "Clostridium_sp._M62/1 not found\n",
      "Hungatella_hathewayi not found\n",
      "Blautia_sp._KLE_1732 not found\n",
      "[Ruminococcus]_torques not found\n",
      "Eisenbergiella_tayi not found\n",
      "[Clostridium]_asparagiforme not found\n",
      "[Clostridium]_bolteae not found\n",
      "[Clostridium]_citroniae not found\n",
      "[Clostridium]_glycyrrhizinilyticum not found\n",
      "[Clostridium]_symbiosum not found\n",
      "[Clostridium]_lactatifermentans not found\n",
      "Oscillibacter_sp._KLE_1745 not found\n",
      "Ruthenibacterium_lactatiformans not found\n",
      "Dielma_fastidiosa not found\n",
      "[Clostridium]_innocuum not found\n",
      "Found 32/55 community members.\n",
      "Computing Community Equilibrium\n",
      "Simulating Invasion\n",
      "Generating Lambdas\n",
      "Cellulomonas_carbonis not found\n",
      "Alistipes_obesi not found\n",
      "Clostridium_sp._KLE_1755 not found\n",
      "Clostridium_sp._M62/1 not found\n",
      "Hungatella_hathewayi not found\n",
      "Blautia_sp._KLE_1732 not found\n",
      "[Ruminococcus]_torques not found\n",
      "Eisenbergiella_tayi not found\n",
      "[Clostridium]_bolteae not found\n",
      "[Clostridium]_citroniae not found\n",
      "[Clostridium]_symbiosum not found\n",
      "[Clostridium]_lactatifermentans not found\n",
      "Oscillibacter_sp._KLE_1745 not found\n",
      "Ruthenibacterium_lactatiformans not found\n",
      "Dielma_fastidiosa not found\n",
      "Found 32/47 community members.\n",
      "Computing Community Equilibrium\n",
      "Simulating Invasion\n"
     ]
    }
   ],
   "source": [
    "for exp in Experiments:\n",
    "\n",
    "    by_proportion = miceData[exp]/sum(miceData[exp])\n",
    "    spec_list = list(species[by_proportion>0.001])\n",
    "    by_proportion.index = species\n",
    "\n",
    "    experiment = Experiment()\n",
    "    experiment.Community = spec_list\n",
    "    experiment.Invader = \"Clostridium_difficile\"\n",
    "    invName,invSuc,zt,t,Qt,InvaderQ,r0,foundlist = predict_by_model(experiment,File = ObservationFile,lambdaVersion = \"Equilibrium\", verb = True)\n",
    "\n",
    "\n",
    "    cddelta = (zt.T[-1][-1] - zt.T[-1][0])/zt.T[-1][0]\n",
    "    found = len(foundlist)\n",
    "    total = len(spec_list)\n",
    "    biomass = sum(by_proportion[np.unique(foundlist)])\n",
    "    predictions.loc[exp] = [invSuc,cddelta,Qt,InvaderQ,r0 + InvaderQ,r0,found,total,biomass]"
   ]
  },
  {
   "cell_type": "markdown",
   "id": "separated-entrance",
   "metadata": {},
   "source": [
    "For visualization, we'll add a column for the risk information contained in the mice labels."
   ]
  },
  {
   "cell_type": "code",
   "execution_count": 9,
   "id": "frequent-engineer",
   "metadata": {},
   "outputs": [],
   "source": [
    "predictions[\"CDiffRisk\"] = [r[0] for r in predictions.index]"
   ]
  },
  {
   "cell_type": "markdown",
   "id": "crude-offset",
   "metadata": {},
   "source": [
    "And view the results:"
   ]
  },
  {
   "cell_type": "code",
   "execution_count": 10,
   "id": "steady-quebec",
   "metadata": {},
   "outputs": [
    {
     "data": {
      "text/html": [
       "<div>\n",
       "<style scoped>\n",
       "    .dataframe tbody tr th:only-of-type {\n",
       "        vertical-align: middle;\n",
       "    }\n",
       "\n",
       "    .dataframe tbody tr th {\n",
       "        vertical-align: top;\n",
       "    }\n",
       "\n",
       "    .dataframe thead th {\n",
       "        text-align: right;\n",
       "    }\n",
       "</style>\n",
       "<table border=\"1\" class=\"dataframe\">\n",
       "  <thead>\n",
       "    <tr style=\"text-align: right;\">\n",
       "      <th></th>\n",
       "      <th>Invasion</th>\n",
       "      <th>CDiffDelta</th>\n",
       "      <th>Resistance</th>\n",
       "      <th>CDiffResistance</th>\n",
       "      <th>CDiffPromotion</th>\n",
       "      <th>InitialCDiffGrowth</th>\n",
       "      <th>SpeciesFound</th>\n",
       "      <th>SpeciesListed</th>\n",
       "      <th>ReadProportion</th>\n",
       "      <th>CDiffRisk</th>\n",
       "    </tr>\n",
       "  </thead>\n",
       "  <tbody>\n",
       "    <tr>\n",
       "      <th>H1_4WK</th>\n",
       "      <td>True</td>\n",
       "      <td>96.294841</td>\n",
       "      <td>0.982405</td>\n",
       "      <td>0.987814</td>\n",
       "      <td>1.998125</td>\n",
       "      <td>1.01031</td>\n",
       "      <td>20</td>\n",
       "      <td>29</td>\n",
       "      <td>0.897664</td>\n",
       "      <td>H</td>\n",
       "    </tr>\n",
       "    <tr>\n",
       "      <th>H2_4WK</th>\n",
       "      <td>True</td>\n",
       "      <td>91.591102</td>\n",
       "      <td>0.982251</td>\n",
       "      <td>0.988</td>\n",
       "      <td>2.005117</td>\n",
       "      <td>1.017117</td>\n",
       "      <td>19</td>\n",
       "      <td>28</td>\n",
       "      <td>0.847712</td>\n",
       "      <td>H</td>\n",
       "    </tr>\n",
       "    <tr>\n",
       "      <th>H3_4WK</th>\n",
       "      <td>True</td>\n",
       "      <td>96.294841</td>\n",
       "      <td>0.982405</td>\n",
       "      <td>0.987814</td>\n",
       "      <td>1.998125</td>\n",
       "      <td>1.01031</td>\n",
       "      <td>20</td>\n",
       "      <td>29</td>\n",
       "      <td>0.899252</td>\n",
       "      <td>H</td>\n",
       "    </tr>\n",
       "    <tr>\n",
       "      <th>H4_4WK</th>\n",
       "      <td>True</td>\n",
       "      <td>91.203921</td>\n",
       "      <td>0.982366</td>\n",
       "      <td>0.988072</td>\n",
       "      <td>1.997601</td>\n",
       "      <td>1.009529</td>\n",
       "      <td>19</td>\n",
       "      <td>28</td>\n",
       "      <td>0.895981</td>\n",
       "      <td>H</td>\n",
       "    </tr>\n",
       "    <tr>\n",
       "      <th>H5_4WK</th>\n",
       "      <td>True</td>\n",
       "      <td>91.594518</td>\n",
       "      <td>0.982213</td>\n",
       "      <td>0.987963</td>\n",
       "      <td>2.005178</td>\n",
       "      <td>1.017216</td>\n",
       "      <td>19</td>\n",
       "      <td>29</td>\n",
       "      <td>0.866974</td>\n",
       "      <td>H</td>\n",
       "    </tr>\n",
       "    <tr>\n",
       "      <th>H6_4WK</th>\n",
       "      <td>True</td>\n",
       "      <td>86.478974</td>\n",
       "      <td>0.982211</td>\n",
       "      <td>0.988292</td>\n",
       "      <td>2.004531</td>\n",
       "      <td>1.016239</td>\n",
       "      <td>18</td>\n",
       "      <td>28</td>\n",
       "      <td>0.894308</td>\n",
       "      <td>H</td>\n",
       "    </tr>\n",
       "    <tr>\n",
       "      <th>L1_4WK</th>\n",
       "      <td>False</td>\n",
       "      <td>-1.0</td>\n",
       "      <td>1.000346</td>\n",
       "      <td>0.999559</td>\n",
       "      <td>0.740366</td>\n",
       "      <td>-0.259193</td>\n",
       "      <td>33</td>\n",
       "      <td>49</td>\n",
       "      <td>0.907811</td>\n",
       "      <td>L</td>\n",
       "    </tr>\n",
       "    <tr>\n",
       "      <th>L2_4WK</th>\n",
       "      <td>False</td>\n",
       "      <td>-1.0</td>\n",
       "      <td>1.00037</td>\n",
       "      <td>0.99953</td>\n",
       "      <td>0.739398</td>\n",
       "      <td>-0.260132</td>\n",
       "      <td>31</td>\n",
       "      <td>47</td>\n",
       "      <td>0.892905</td>\n",
       "      <td>L</td>\n",
       "    </tr>\n",
       "    <tr>\n",
       "      <th>L3_4WK</th>\n",
       "      <td>False</td>\n",
       "      <td>-1.0</td>\n",
       "      <td>1.000334</td>\n",
       "      <td>0.999656</td>\n",
       "      <td>0.762777</td>\n",
       "      <td>-0.236879</td>\n",
       "      <td>35</td>\n",
       "      <td>48</td>\n",
       "      <td>0.909158</td>\n",
       "      <td>L</td>\n",
       "    </tr>\n",
       "    <tr>\n",
       "      <th>L4_4WK</th>\n",
       "      <td>False</td>\n",
       "      <td>-1.0</td>\n",
       "      <td>1.000378</td>\n",
       "      <td>0.999612</td>\n",
       "      <td>0.739622</td>\n",
       "      <td>-0.25999</td>\n",
       "      <td>34</td>\n",
       "      <td>50</td>\n",
       "      <td>0.90651</td>\n",
       "      <td>L</td>\n",
       "    </tr>\n",
       "    <tr>\n",
       "      <th>L5_4WK</th>\n",
       "      <td>False</td>\n",
       "      <td>-1.0</td>\n",
       "      <td>1.000325</td>\n",
       "      <td>0.999509</td>\n",
       "      <td>0.738768</td>\n",
       "      <td>-0.260741</td>\n",
       "      <td>32</td>\n",
       "      <td>55</td>\n",
       "      <td>0.873742</td>\n",
       "      <td>L</td>\n",
       "    </tr>\n",
       "    <tr>\n",
       "      <th>L6_4WK</th>\n",
       "      <td>True</td>\n",
       "      <td>157.29734</td>\n",
       "      <td>0.999026</td>\n",
       "      <td>1.002041</td>\n",
       "      <td>1.966102</td>\n",
       "      <td>0.964061</td>\n",
       "      <td>32</td>\n",
       "      <td>47</td>\n",
       "      <td>0.908993</td>\n",
       "      <td>L</td>\n",
       "    </tr>\n",
       "  </tbody>\n",
       "</table>\n",
       "</div>"
      ],
      "text/plain": [
       "       Invasion CDiffDelta Resistance CDiffResistance CDiffPromotion  \\\n",
       "H1_4WK     True  96.294841   0.982405        0.987814       1.998125   \n",
       "H2_4WK     True  91.591102   0.982251           0.988       2.005117   \n",
       "H3_4WK     True  96.294841   0.982405        0.987814       1.998125   \n",
       "H4_4WK     True  91.203921   0.982366        0.988072       1.997601   \n",
       "H5_4WK     True  91.594518   0.982213        0.987963       2.005178   \n",
       "H6_4WK     True  86.478974   0.982211        0.988292       2.004531   \n",
       "L1_4WK    False       -1.0   1.000346        0.999559       0.740366   \n",
       "L2_4WK    False       -1.0    1.00037         0.99953       0.739398   \n",
       "L3_4WK    False       -1.0   1.000334        0.999656       0.762777   \n",
       "L4_4WK    False       -1.0   1.000378        0.999612       0.739622   \n",
       "L5_4WK    False       -1.0   1.000325        0.999509       0.738768   \n",
       "L6_4WK     True  157.29734   0.999026        1.002041       1.966102   \n",
       "\n",
       "       InitialCDiffGrowth SpeciesFound SpeciesListed ReadProportion CDiffRisk  \n",
       "H1_4WK            1.01031           20            29       0.897664         H  \n",
       "H2_4WK           1.017117           19            28       0.847712         H  \n",
       "H3_4WK            1.01031           20            29       0.899252         H  \n",
       "H4_4WK           1.009529           19            28       0.895981         H  \n",
       "H5_4WK           1.017216           19            29       0.866974         H  \n",
       "H6_4WK           1.016239           18            28       0.894308         H  \n",
       "L1_4WK          -0.259193           33            49       0.907811         L  \n",
       "L2_4WK          -0.260132           31            47       0.892905         L  \n",
       "L3_4WK          -0.236879           35            48       0.909158         L  \n",
       "L4_4WK           -0.25999           34            50        0.90651         L  \n",
       "L5_4WK          -0.260741           32            55       0.873742         L  \n",
       "L6_4WK           0.964061           32            47       0.908993         L  "
      ]
     },
     "execution_count": 10,
     "metadata": {},
     "output_type": "execute_result"
    }
   ],
   "source": [
    "predictions"
   ]
  },
  {
   "cell_type": "markdown",
   "id": "complete-thousand",
   "metadata": {},
   "source": [
    "Save the results as a csv:"
   ]
  },
  {
   "cell_type": "code",
   "execution_count": 11,
   "id": "available-necessity",
   "metadata": {},
   "outputs": [],
   "source": [
    "predictions.to_csv(dirname + \"/micePredictionEqFit.csv\")"
   ]
  },
  {
   "cell_type": "code",
   "execution_count": 12,
   "id": "hazardous-conditioning",
   "metadata": {},
   "outputs": [
    {
     "data": {
      "image/png": "[encoded data removed]",
      "text/plain": [
       "<Figure size 720x720 with 1 Axes>"
      ]
     },
     "metadata": {
      "needs_background": "light"
     },
     "output_type": "display_data"
    }
   ],
   "source": [
    "fig,ax = plt.subplots(figsize = (10,10))\n",
    "sb.stripplot(x = \"CDiffRisk\", y = \"CDiffDelta\",data = predictions, s=10, ax = ax)\n",
    "sb.boxplot(x = \"CDiffRisk\", y = \"CDiffDelta\",data = predictions,ax =ax)\n",
    "fig.savefig(dirname + \"/tutorialDelta.png\")"
   ]
  },
  {
   "cell_type": "code",
   "execution_count": 13,
   "id": "committed-commitment",
   "metadata": {},
   "outputs": [
    {
     "data": {
      "image/png": "[encoded data removed]",
      "text/plain": [
       "<Figure size 720x720 with 1 Axes>"
      ]
     },
     "metadata": {
      "needs_background": "light"
     },
     "output_type": "display_data"
    }
   ],
   "source": [
    "fig,ax = plt.subplots(figsize = (10,10))\n",
    "sb.stripplot(x = \"CDiffRisk\", y = \"InitialCDiffGrowth\",data = predictions, s=10, ax = ax)\n",
    "sb.boxplot(x = \"CDiffRisk\", y = \"InitialCDiffGrowth\",data = predictions,ax =ax)\n",
    "fig.savefig(dirname + \"/tutorialinitialgrowth.png\")"
   ]
  },
  {
   "cell_type": "code",
   "execution_count": 14,
   "id": "continuing-smell",
   "metadata": {},
   "outputs": [
    {
     "data": {
      "image/png": "[encoded data removed]",
      "text/plain": [
       "<Figure size 720x720 with 1 Axes>"
      ]
     },
     "metadata": {
      "needs_background": "light"
     },
     "output_type": "display_data"
    }
   ],
   "source": [
    "fig,ax = plt.subplots(figsize = (10,10))\n",
    "sb.stripplot(x = \"CDiffRisk\", y = \"CDiffResistance\",data = predictions, s=10, ax = ax)\n",
    "sb.boxplot(x = \"CDiffRisk\", y = \"CDiffResistance\",data = predictions,ax =ax)\n",
    "fig.savefig(dirname + \"/tutorialresistance.png\")"
   ]
  },
  {
   "cell_type": "code",
   "execution_count": 15,
   "id": "blond-colleague",
   "metadata": {},
   "outputs": [
    {
     "data": {
      "image/png": "[encoded data removed]",
      "text/plain": [
       "<Figure size 720x720 with 1 Axes>"
      ]
     },
     "metadata": {
      "needs_background": "light"
     },
     "output_type": "display_data"
    }
   ],
   "source": [
    "fig,ax = plt.subplots(figsize = (10,10))\n",
    "sb.stripplot(x = \"CDiffRisk\", y = \"CDiffPromotion\",data = predictions, s=10, ax = ax)\n",
    "sb.boxplot(x = \"CDiffRisk\", y = \"CDiffPromotion\",data = predictions,ax =ax)\n",
    "fig.savefig(dirname + \"/tutorialpromotion.png\")"
   ]
  },
  {
   "cell_type": "code",
   "execution_count": 16,
   "id": "sought-denver",
   "metadata": {},
   "outputs": [
    {
     "data": {
      "image/png": "[encoded data removed]",
      "text/plain": [
       "<Figure size 432x288 with 1 Axes>"
      ]
     },
     "metadata": {
      "needs_background": "light"
     },
     "output_type": "display_data"
    }
   ],
   "source": [
    "fig,ax = plt.subplots()\n",
    "sb.histplot(x =\"CDiffDelta\",hue = \"CDiffRisk\",data = predictions, ax = ax,bins = 100)\n",
    "fig.savefig(dirname + \"/tutorialdeltaHistogram.png\")"
   ]
  },
  {
   "cell_type": "markdown",
   "id": "committed-wallet",
   "metadata": {},
   "source": [
    "## Part 2: Prediction of Community Equilibrium"
   ]
  },
  {
   "cell_type": "markdown",
   "id": "tough-genius",
   "metadata": {},
   "source": [
    "It is simple to predict only the community equilibrium (assuming the community settles at one), without an invader. In fact, this is done in the above so that the invader is introduced at community equilibrium."
   ]
  },
  {
   "cell_type": "code",
   "execution_count": 76,
   "id": "harmful-wisconsin",
   "metadata": {},
   "outputs": [
    {
     "name": "stdout",
     "output_type": "stream",
     "text": [
      "Generating Lambdas\n",
      "Bacteroides_salanitronis not found\n",
      "Barnesiella_viscericola not found\n",
      "Prevotella_buccalis not found\n",
      "Prevotella_sp._109 not found\n",
      "Alistipes_obesi not found\n",
      "Clostridia_bacterium_UC5.1-1D1 not found\n",
      "[Ruminococcus]_torques not found\n",
      "[Clostridium]_celerecrescens not found\n",
      "Erysipelatoclostridium_ramosum not found\n",
      "Found 19/29 community members.\n",
      "Computing Community Equilibrium\n",
      "Generating Lambdas\n",
      "Bacteroides_salanitronis not found\n",
      "Barnesiella_viscericola not found\n",
      "Prevotella_buccalis not found\n",
      "Prevotella_sp._109 not found\n",
      "Alistipes_obesi not found\n",
      "Clostridia_bacterium_UC5.1-1D1 not found\n",
      "[Ruminococcus]_torques not found\n",
      "[Clostridium]_celerecrescens not found\n",
      "Erysipelatoclostridium_ramosum not found\n",
      "Found 18/28 community members.\n",
      "Computing Community Equilibrium\n",
      "Generating Lambdas\n",
      "Bacteroides_salanitronis not found\n",
      "Barnesiella_viscericola not found\n",
      "Prevotella_buccalis not found\n",
      "Prevotella_sp._109 not found\n",
      "Alistipes_obesi not found\n",
      "Clostridia_bacterium_UC5.1-1D1 not found\n",
      "[Ruminococcus]_torques not found\n",
      "[Clostridium]_celerecrescens not found\n",
      "Erysipelatoclostridium_ramosum not found\n",
      "Found 19/29 community members.\n",
      "Computing Community Equilibrium\n",
      "Generating Lambdas\n",
      "Bacteroides_salanitronis not found\n",
      "Barnesiella_viscericola not found\n",
      "Prevotella_buccalis not found\n",
      "Prevotella_sp._109 not found\n",
      "Alistipes_obesi not found\n",
      "Clostridia_bacterium_UC5.1-1D1 not found\n",
      "[Ruminococcus]_torques not found\n",
      "[Clostridium]_celerecrescens not found\n",
      "Erysipelatoclostridium_ramosum not found\n",
      "Found 18/28 community members.\n",
      "Computing Community Equilibrium\n",
      "Generating Lambdas\n",
      "Bacteroides_salanitronis not found\n",
      "Barnesiella_viscericola not found\n",
      "Coprobacter_fastidiosus not found\n",
      "Prevotella_buccalis not found\n",
      "Prevotella_sp._109 not found\n",
      "Alistipes_obesi not found\n",
      "Clostridia_bacterium_UC5.1-1D1 not found\n",
      "[Ruminococcus]_torques not found\n",
      "[Clostridium]_celerecrescens not found\n",
      "Erysipelatoclostridium_ramosum not found\n",
      "Found 18/29 community members.\n",
      "Computing Community Equilibrium\n",
      "Generating Lambdas\n",
      "Bacteroides_salanitronis not found\n",
      "Barnesiella_viscericola not found\n",
      "Coprobacter_fastidiosus not found\n",
      "Prevotella_buccalis not found\n",
      "Prevotella_sp._109 not found\n",
      "Alistipes_obesi not found\n",
      "Clostridia_bacterium_UC5.1-1D1 not found\n",
      "[Ruminococcus]_torques not found\n",
      "[Clostridium]_celerecrescens not found\n",
      "Erysipelatoclostridium_ramosum not found\n",
      "Found 17/28 community members.\n",
      "Computing Community Equilibrium\n",
      "Generating Lambdas\n",
      "Cellulomonas_carbonis not found\n",
      "Bacteroides_faecichinchillae not found\n",
      "Clostridium_sp._KLE_1755 not found\n",
      "Clostridium_sp._M62/1 not found\n",
      "Hungatella_hathewayi not found\n",
      "Blautia_sp._KLE_1732 not found\n",
      "[Ruminococcus]_torques not found\n",
      "Eisenbergiella_tayi not found\n",
      "[Clostridium]_bolteae not found\n",
      "[Clostridium]_citroniae not found\n",
      "[Clostridium]_symbiosum not found\n",
      "[Clostridium]_lactatifermentans not found\n",
      "Oscillibacter_sp._KLE_1745 not found\n",
      "Ruthenibacterium_lactatiformans not found\n",
      "Dielma_fastidiosa not found\n",
      "[Clostridium]_innocuum not found\n",
      "Found 33/49 community members.\n",
      "Computing Community Equilibrium\n",
      "Generating Lambdas\n",
      "Cellulomonas_carbonis not found\n",
      "Clostridiales_bacterium_1_7_47FAA not found\n",
      "Clostridium_sp._KLE_1755 not found\n",
      "Clostridium_sp._M62/1 not found\n",
      "Hungatella_hathewayi not found\n",
      "Blautia_sp._KLE_1732 not found\n",
      "[Ruminococcus]_torques not found\n",
      "Eisenbergiella_tayi not found\n",
      "[Clostridium]_bolteae not found\n",
      "[Clostridium]_citroniae not found\n",
      "[Clostridium]_symbiosum not found\n",
      "[Clostridium]_lactatifermentans not found\n",
      "Oscillibacter_sp._KLE_1745 not found\n",
      "Ruthenibacterium_lactatiformans not found\n",
      "Dielma_fastidiosa not found\n",
      "[Clostridium]_innocuum not found\n",
      "Found 31/47 community members.\n",
      "Computing Community Equilibrium\n",
      "Generating Lambdas\n",
      "Cellulomonas_carbonis not found\n",
      "Clostridium_sp._KLE_1755 not found\n",
      "Clostridium_sp._M62/1 not found\n",
      "Hungatella_hathewayi not found\n",
      "Blautia_sp._KLE_1732 not found\n",
      "Eisenbergiella_tayi not found\n",
      "[Clostridium]_bolteae not found\n",
      "[Clostridium]_citroniae not found\n",
      "[Clostridium]_symbiosum not found\n",
      "[Clostridium]_lactatifermentans not found\n",
      "Oscillibacter_sp._KLE_1745 not found\n",
      "Ruthenibacterium_lactatiformans not found\n",
      "Dielma_fastidiosa not found\n",
      "Found 35/48 community members.\n",
      "Computing Community Equilibrium\n",
      "Generating Lambdas\n",
      "Cellulomonas_carbonis not found\n",
      "Bacteroides_faecichinchillae not found\n",
      "Coprobacter_fastidiosus not found\n",
      "Clostridium_sp._KLE_1755 not found\n",
      "Clostridium_sp._M62/1 not found\n",
      "Hungatella_hathewayi not found\n",
      "Blautia_sp._KLE_1732 not found\n",
      "[Ruminococcus]_torques not found\n",
      "Eisenbergiella_tayi not found\n",
      "[Clostridium]_bolteae not found\n",
      "[Clostridium]_citroniae not found\n",
      "[Clostridium]_symbiosum not found\n",
      "[Clostridium]_lactatifermentans not found\n",
      "Oscillibacter_sp._KLE_1745 not found\n",
      "Ruthenibacterium_lactatiformans not found\n",
      "Dielma_fastidiosa not found\n",
      "Found 34/50 community members.\n",
      "Computing Community Equilibrium\n",
      "Generating Lambdas\n",
      "Cellulomonas_carbonis not found\n",
      "Bacteroides_faecichinchillae not found\n",
      "Alistipes_ihumii not found\n",
      "Alistipes_obesi not found\n",
      "Clostridiales_bacterium_1_7_47FAA not found\n",
      "Intestinimonas_butyriciproducens not found\n",
      "Clostridium_phoceensis not found\n",
      "Clostridium_sp._KLE_1755 not found\n",
      "Clostridium_sp._M62/1 not found\n",
      "Hungatella_hathewayi not found\n",
      "Blautia_sp._KLE_1732 not found\n",
      "[Ruminococcus]_torques not found\n",
      "Eisenbergiella_tayi not found\n",
      "[Clostridium]_asparagiforme not found\n",
      "[Clostridium]_bolteae not found\n",
      "[Clostridium]_citroniae not found\n",
      "[Clostridium]_glycyrrhizinilyticum not found\n",
      "[Clostridium]_symbiosum not found\n",
      "[Clostridium]_lactatifermentans not found\n",
      "Oscillibacter_sp._KLE_1745 not found\n",
      "Ruthenibacterium_lactatiformans not found\n",
      "Dielma_fastidiosa not found\n",
      "[Clostridium]_innocuum not found\n",
      "Found 32/55 community members.\n",
      "Computing Community Equilibrium\n",
      "Generating Lambdas\n",
      "Cellulomonas_carbonis not found\n",
      "Alistipes_obesi not found\n",
      "Clostridium_sp._KLE_1755 not found\n",
      "Clostridium_sp._M62/1 not found\n",
      "Hungatella_hathewayi not found\n",
      "Blautia_sp._KLE_1732 not found\n",
      "[Ruminococcus]_torques not found\n",
      "Eisenbergiella_tayi not found\n",
      "[Clostridium]_bolteae not found\n",
      "[Clostridium]_citroniae not found\n",
      "[Clostridium]_symbiosum not found\n",
      "[Clostridium]_lactatifermentans not found\n",
      "Oscillibacter_sp._KLE_1745 not found\n",
      "Ruthenibacterium_lactatiformans not found\n",
      "Dielma_fastidiosa not found\n",
      "Found 32/47 community members.\n",
      "Computing Community Equilibrium\n"
     ]
    }
   ],
   "source": [
    "CommunityEquilibrium = {}\n",
    "FoundLists = {}\n",
    "observed_communities = {}\n",
    "for exp in Experiments:\n",
    "\n",
    "    by_proportion = miceData[exp]/sum(miceData[exp])\n",
    "    spec_list = list(species[by_proportion>0.001])\n",
    "    by_proportion.index = species\n",
    "\n",
    "    Equilibrium,FoundList = predict_community(spec_list,File = ObservationFile,lambdaVersion = \"Equilibrium\", verb = True)\n",
    "\n",
    "    CommunityEquilibrium[exp] = dict([(ky,val.round(3)) for ky,val in Equilibrium.items()])\n",
    "    FoundLists[exp] = FoundList\n",
    "    observed_communities[exp] = by_proportion[np.unique(FoundList)][~by_proportion[np.unique(FoundList)].index.duplicated()]"
   ]
  },
  {
   "cell_type": "code",
   "execution_count": 60,
   "id": "weekly-symposium",
   "metadata": {},
   "outputs": [
    {
     "data": {
      "text/plain": [
       "{\"'Bacteroides_cellulosilyticus_DSM_14838.mat'\": 0.016,\n",
       " \"'Bacteroides_coprocola_M16_DSM_17136.mat'\": 0.003,\n",
       " \"'Bacteroides_coprophilus_DSM_18228.mat'\": 0.047,\n",
       " \"'Bacteroides_fluxus_YIT_12057.mat'\": 0.065,\n",
       " \"'Bacteroides_oleiciplenus_YIT_12058.mat'\": 0.013,\n",
       " \"'Bacteroides_ovatus_ATCC_8483.mat'\": 0.23,\n",
       " \"'Bacteroides_plebeius_M12_DSM_17135.mat'\": 0.0,\n",
       " \"'Bacteroides_salyersiae_WAL_10018.mat'\": 0.305,\n",
       " \"'Bacteroides_stercoris_ATCC_43183.mat'\": 0.0,\n",
       " \"'Bacteroides_thetaiotaomicron_VPI_5482.mat'\": -0.0,\n",
       " \"'Bacteroides_uniformis_ATCC_8492.mat'\": 0.0,\n",
       " \"'Bacteroides_vulgatus_ATCC_8482.mat'\": 0.322,\n",
       " \"'Bifidobacterium_animalis_lactis_AD011.mat'\": 0.0,\n",
       " \"'Enterococcus_faecalis_OG1RF_ATCC_47077.mat'\": 0.0,\n",
       " \"'Flavonifractor_plautii_ATCC_29863.mat'\": 0.0,\n",
       " \"'Lactobacillus_plantarum_JDM1.mat'\": 0.0,\n",
       " \"'Odoribacter_laneus_YIT_12061.mat'\": -0.0,\n",
       " \"'Parabacteroides_distasonis_ATCC_8503.mat'\": 0.0,\n",
       " \"'Parabacteroides_johnsonii_DSM_18315.mat'\": 0.0}"
      ]
     },
     "execution_count": 60,
     "metadata": {},
     "output_type": "execute_result"
    }
   ],
   "source": [
    "CommunityEquilibrium[\"H1_4WK\"]"
   ]
  },
  {
   "cell_type": "code",
   "execution_count": 79,
   "id": "daily-channels",
   "metadata": {},
   "outputs": [
    {
     "data": {
      "text/plain": [
       "[Text(0, 0, \"'Bacteroides_cellulosilyticus_DSM_14838.mat'\"),\n",
       " Text(1, 0, \"'Bacteroides_coprocola_M16_DSM_17136.mat'\"),\n",
       " Text(2, 0, \"'Bacteroides_coprophilus_DSM_18228.mat'\"),\n",
       " Text(3, 0, \"'Bacteroides_fluxus_YIT_12057.mat'\"),\n",
       " Text(4, 0, \"'Bacteroides_oleiciplenus_YIT_12058.mat'\"),\n",
       " Text(5, 0, \"'Bacteroides_ovatus_ATCC_8483.mat'\"),\n",
       " Text(6, 0, \"'Bacteroides_plebeius_M12_DSM_17135.mat'\"),\n",
       " Text(7, 0, \"'Bacteroides_salyersiae_WAL_10018.mat'\"),\n",
       " Text(8, 0, \"'Bacteroides_stercoris_ATCC_43183.mat'\"),\n",
       " Text(9, 0, \"'Bacteroides_thetaiotaomicron_VPI_5482.mat'\"),\n",
       " Text(10, 0, \"'Bacteroides_uniformis_ATCC_8492.mat'\"),\n",
       " Text(11, 0, \"'Bacteroides_vulgatus_ATCC_8482.mat'\"),\n",
       " Text(12, 0, \"'Bifidobacterium_animalis_lactis_AD011.mat'\"),\n",
       " Text(13, 0, \"'Enterococcus_faecalis_OG1RF_ATCC_47077.mat'\"),\n",
       " Text(14, 0, \"'Flavonifractor_plautii_ATCC_29863.mat'\"),\n",
       " Text(15, 0, \"'Lactobacillus_plantarum_JDM1.mat'\"),\n",
       " Text(16, 0, \"'Odoribacter_laneus_YIT_12061.mat'\"),\n",
       " Text(17, 0, \"'Parabacteroides_distasonis_ATCC_8503.mat'\"),\n",
       " Text(18, 0, \"'Parabacteroides_johnsonii_DSM_18315.mat'\")]"
      ]
     },
     "execution_count": 79,
     "metadata": {},
     "output_type": "execute_result"
    },
    {
     "data": {
      "image/png": "[encoded data removed]",
      "text/plain": [
       "<Figure size 720x720 with 1 Axes>"
      ]
     },
     "metadata": {
      "needs_background": "light"
     },
     "output_type": "display_data"
    }
   ],
   "source": [
    "fig,ax = plt.subplots(figsize = (10,10))\n",
    "\n",
    "keys = list(CommunityEquilibrium[\"H1_4WK\"].keys())\n",
    "# get values in the same order as keys, and parse percentage values\n",
    "vals = [float(CommunityEquilibrium[\"H1_4WK\"][k]) for k in keys]\n",
    "sb.barplot(x=keys, y=vals, ax = ax)\n",
    "ax.set_xticklabels(keys, rotation = 90)"
   ]
  },
  {
   "cell_type": "code",
   "execution_count": 78,
   "id": "enhanced-liberty",
   "metadata": {},
   "outputs": [
    {
     "data": {
      "text/plain": [
       "[Text(0, 0, 'Bacteroides_cellulosilyticus'),\n",
       " Text(1, 0, 'Bacteroides_coprocola'),\n",
       " Text(2, 0, 'Bacteroides_coprophilus'),\n",
       " Text(3, 0, 'Bacteroides_fluxus'),\n",
       " Text(4, 0, 'Bacteroides_oleiciplenus'),\n",
       " Text(5, 0, 'Bacteroides_ovatus'),\n",
       " Text(6, 0, 'Bacteroides_plebeius'),\n",
       " Text(7, 0, 'Bacteroides_salyersiae'),\n",
       " Text(8, 0, 'Bacteroides_stercoris'),\n",
       " Text(9, 0, 'Bacteroides_thetaiotaomicron'),\n",
       " Text(10, 0, 'Bacteroides_uniformis'),\n",
       " Text(11, 0, 'Bacteroides_vulgatus'),\n",
       " Text(12, 0, 'Bifidobacterium_animalis'),\n",
       " Text(13, 0, 'Enterococcus_faecalis'),\n",
       " Text(14, 0, 'Flavonifractor_plautii'),\n",
       " Text(15, 0, 'Lactobacillus_plantarum'),\n",
       " Text(16, 0, 'Odoribacter_laneus'),\n",
       " Text(17, 0, 'Parabacteroides_distasonis'),\n",
       " Text(18, 0, 'Parabacteroides_johnsonii')]"
      ]
     },
     "execution_count": 78,
     "metadata": {},
     "output_type": "execute_result"
    },
    {
     "data": {
      "image/png": "[encoded data removed]",
      "text/plain": [
       "<Figure size 720x720 with 1 Axes>"
      ]
     },
     "metadata": {
      "needs_background": "light"
     },
     "output_type": "display_data"
    }
   ],
   "source": [
    "fig,ax = plt.subplots(figsize = (10,10))\n",
    "\n",
    "keys = list(observed_communities[\"H1_4WK\"].index)\n",
    "# get values in the same order as keys, and parse percentage values\n",
    "vals = [observed_communities[\"H1_4WK\"].loc[k] for k in keys]\n",
    "sb.barplot(x=keys, y=vals, ax = ax)\n",
    "ax.set_xticklabels(keys, rotation = 90)"
   ]
  },
  {
   "cell_type": "code",
   "execution_count": null,
   "id": "common-terminal",
   "metadata": {},
   "outputs": [],
   "source": []
  }
 ],
 "metadata": {
  "kernelspec": {
   "display_name": "Python 3",
   "language": "python",
   "name": "python3"
  },
  "language_info": {
   "codemirror_mode": {
    "name": "ipython",
    "version": 3
   },
   "file_extension": ".py",
   "mimetype": "text/x-python",
   "name": "python",
   "nbconvert_exporter": "python",
   "pygments_lexer": "ipython3",
   "version": "3.7.9"
  }
 },
 "nbformat": 4,
 "nbformat_minor": 5
}
