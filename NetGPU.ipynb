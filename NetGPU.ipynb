{
  "nbformat": 4,
  "nbformat_minor": 0,
  "metadata": {
    "colab": {
      "name": "NetGPU.ipynb",
      "provenance": [],
      "include_colab_link": true
    },
    "kernelspec": {
      "display_name": "Python 3",
      "name": "python3"
    },
    "language_info": {
      "name": "python"
    },
    "accelerator": "GPU"
  },
  "cells": [
    {
      "cell_type": "markdown",
      "metadata": {
        "id": "view-in-github",
        "colab_type": "text"
      },
      "source": [
        "<a href=\"https://colab.research.google.com/github/yashlal/Deepfake-Microbiomes/blob/main/NetGPU.ipynb\" target=\"_parent\"><img src=\"https://colab.research.google.com/assets/colab-badge.svg\" alt=\"Open In Colab\"/></a>"
      ]
    },
    {
      "cell_type": "code",
      "metadata": {
        "colab": {
          "base_uri": "https://localhost:8080/"
        },
        "id": "paPGcZD0gWd1",
        "outputId": "a20dddc0-ed4e-471c-bcb5-0bd18e89a46b"
      },
      "source": [
        "import torch\n",
        "import torch.nn as nn\n",
        "import torch.nn.functional as F\n",
        "import pickle\n",
        "import numpy as np\n",
        "import torch.optim as optim\n",
        "import time\n",
        "\n",
        "\n",
        "device = torch.device('cuda' if torch.cuda.is_available() else 'cpu')\n",
        "\n",
        "class MyNet(nn.Module):\n",
        "    def __init__(self):\n",
        "        super(MyNet, self).__init__()\n",
        "        self.fc1 = nn.Linear(462, 462)\n",
        "        self.fc2 = nn.Linear(462, 462*5)\n",
        "        self.fc3 = nn.Linear(462*5, 231*461)\n",
        "    def forward(self,x):\n",
        "        x = F.relu(self.fc1(x))\n",
        "        x = F.relu(self.fc2(x))\n",
        "        x = self.fc3(x)\n",
        "        return x\n",
        "\n",
        "net = MyNet().to(device)\n",
        "\n",
        "# for n in range(1,151):\n",
        "#     PATH = 'Data/Train1-150/' + str(n)\n",
        "f = open(\"1000\", 'rb')\n",
        "data = pickle.load(f)\n",
        "\n",
        "criterion = nn.MSELoss(reduction='sum')\n",
        "optimizer = optim.Adam(net.parameters(), lr=1e-4)\n",
        "\n",
        "for i in range(10):\n",
        "    print(i)\n",
        "\n",
        "    optimizer.zero_grad()\n",
        "\n",
        "    input = torch.from_numpy(data[i][1]).float().to(device)\n",
        "    true_y = torch.FloatTensor(data[i][0]).to(device)\n",
        "    output = net(input)\n",
        "\n",
        "    loss = criterion(output, true_y)\n",
        "    print(f'Epoch {i}: {loss.item()}')\n",
        "\n",
        "    loss.backward()\n",
        "    optimizer.step()\n",
        "\n",
        "\n",
        "# PATH = 'model.pth'\n",
        "# torch.save(net.state_dict(), PATH)\n"
      ],
      "execution_count": 7,
      "outputs": [
        {
          "output_type": "stream",
          "text": [
            "0\n",
            "Epoch 0: 35403.80078125\n",
            "1\n",
            "Epoch 1: 35196.2578125\n",
            "2\n",
            "Epoch 2: 34881.3984375\n",
            "3\n",
            "Epoch 3: 34600.1875\n",
            "4\n",
            "Epoch 4: 34387.9609375\n",
            "5\n",
            "Epoch 5: 33987.28515625\n",
            "6\n",
            "Epoch 6: 33688.84375\n",
            "7\n",
            "Epoch 7: 33371.77734375\n",
            "8\n",
            "Epoch 8: 32895.56640625\n",
            "9\n",
            "Epoch 9: 32514.4921875\n"
          ],
          "name": "stdout"
        }
      ]
    }
  ]
}