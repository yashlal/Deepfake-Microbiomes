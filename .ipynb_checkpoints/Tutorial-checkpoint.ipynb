{
 "cells": [
  {
   "cell_type": "markdown",
   "id": "inner-dream",
   "metadata": {},
   "source": [
    "# Tutorial on the use of a Pairwise Model for Community Prediction"
   ]
  },
  {
   "cell_type": "markdown",
   "id": "boolean-prophet",
   "metadata": {},
   "source": [
    "This notebook will walk you through the steps of making predictions of community composition using pairwise equilibrium data and the model published in Gjini \\& Madec, 2021: https://www.biorxiv.org/content/10.1101/2021.01.17.426995v1.abstract."
   ]
  },
  {
   "cell_type": "markdown",
   "id": "proof-research",
   "metadata": {},
   "source": [
    "Imports:"
   ]
  },
  {
   "cell_type": "code",
   "execution_count": 1,
   "id": "continent-blake",
   "metadata": {},
   "outputs": [],
   "source": [
    "import numpy as np\n",
    "import pandas as pd\n",
    "import os\n",
    "import matplotlib.pyplot as plt\n",
    "import pickle\n",
    "import seaborn as sb"
   ]
  },
  {
   "cell_type": "markdown",
   "id": "curious-taxation",
   "metadata": {},
   "source": [
    "Import of this module"
   ]
  },
  {
   "cell_type": "code",
   "execution_count": 2,
   "id": "economic-helicopter",
   "metadata": {},
   "outputs": [],
   "source": [
    "from predict_by_model import *"
   ]
  },
  {
   "cell_type": "markdown",
   "id": "romantic-cherry",
   "metadata": {},
   "source": [
    "## Part 1: Prediction of c. diff engraftment in mice."
   ]
  },
  {
   "cell_type": "markdown",
   "id": "sought-edition",
   "metadata": {},
   "source": [
    "In part 1 of this tutorial, we will predict c. diff engraftment on mice for which we have 16s community data. Community data is given as a .csv file called *Cdif_mice_high_vs_low_risk.species.tsv* whose columns correspond to mice and rows correspond to taxa, and entries corresponding to read counts.\n",
    "\n",
    "To do this, we will use the predictions of pairwise metabolic modeling with resource allocation constraints as \"observed\" pairwise experiments. These \"observations\" can be found in *Pairwise_Chemostat.xlsx*.\n",
    "\n",
    "For this data, we require a function to parse the taxa labels into something that matches our pairwise equilibrium data."
   ]
  },
  {
   "cell_type": "code",
   "execution_count": 3,
   "id": "finite-intersection",
   "metadata": {},
   "outputs": [],
   "source": [
    "def GetStrn(strg):\n",
    "    s1 = strg.split(\";\")[-1]\n",
    "    s2 = \"_\".join(s1.split(\"__\")[1:])\n",
    "    return s2"
   ]
  },
  {
   "cell_type": "markdown",
   "id": "afraid-identity",
   "metadata": {},
   "source": [
    "We create a directory to store the output of the prediction:"
   ]
  },
  {
   "cell_type": "code",
   "execution_count": 4,
   "id": "settled-monday",
   "metadata": {},
   "outputs": [],
   "source": [
    "dirname = \"Tutorial\"\n",
    "try:\n",
    "    os.mkdir(dirname)\n",
    "except:\n",
    "    pass"
   ]
  },
  {
   "cell_type": "markdown",
   "id": "polyphonic-running",
   "metadata": {},
   "source": [
    "Next we load and parse the communities we wish to predict on, "
   ]
  },
  {
   "cell_type": "code",
   "execution_count": 5,
   "id": "governing-brook",
   "metadata": {},
   "outputs": [],
   "source": [
    "miceData = pd.read_csv(\"Cdiff_mice_high_vs_low_risk.species.tsv\",sep = '\\t')\n",
    "Experiments = miceData.columns[np.where(['WK' in colnm for colnm in miceData.columns])]\n",
    "species = miceData.species.apply(GetStrn)"
   ]
  },
  {
   "cell_type": "markdown",
   "id": "handmade-transmission",
   "metadata": {},
   "source": [
    "and create a pandas DataFrame object to store the results."
   ]
  },
  {
   "cell_type": "code",
   "execution_count": 6,
   "id": "ignored-cooler",
   "metadata": {},
   "outputs": [],
   "source": [
    "predictions = pd.DataFrame(index =  Experiments, columns = [\"Invasion\",\"CDiffDelta\",\"Resistance\",\"CDiffResistance\",\"CDiffPromotion\",\"InitialCDiffGrowth\",\"SpeciesFound\",\"SpeciesListed\",\"ReadProportion\"])"
   ]
  },
  {
   "cell_type": "markdown",
   "id": "moving-customer",
   "metadata": {},
   "source": [
    "To make our predictions, we must provide a set of \"observed\" equilibrium relative abundances from pairwise growth experiments. This file should have rows \\& columns corresponding to taxa, and include all taxa present in the communities, if possible. The module will attempt to match the taxa names from the community data file (miceData) to these labels, and will return the number found and the proportion of reads covered by those found."
   ]
  },
  {
   "cell_type": "code",
   "execution_count": 7,
   "id": "alpha-orange",
   "metadata": {},
   "outputs": [],
   "source": [
    "ObservationFile =  \"Pairwise_Chemostat.xlsx\" #This should be an excel file with a sheet labeled \"Relative_Abundance\""
   ]
  },
  {
   "cell_type": "markdown",
   "id": "restricted-stack",
   "metadata": {},
   "source": [
    "The main function uses an *Experiment* object which has the attributes \"Community\" and \"Invader\". The community should be a list of community members (e.g. parsed rows of miceData with number of reads above some threshhold), and invader the name of a invading taxa.\n",
    "\n",
    "Here, we trim the communities by read proportion over 0.1\\%"
   ]
  },
  {
   "cell_type": "code",
   "execution_count": null,
   "id": "distant-cookie",
   "metadata": {},
   "outputs": [],
   "source": [
    "for exp in Experiments:\n",
    "\n",
    "    by_proportion = miceData[exp]/sum(miceData[exp])\n",
    "    spec_list = list(species[by_proportion>0.001])\n",
    "    by_proportion.index = species\n",
    "\n",
    "    experiment = Experiment()\n",
    "    experiment.Community = spec_list\n",
    "    experiment.Invader = \"Clostridium_difficile\"\n",
    "    invName,invSuc,zt,t,Qt,InvaderQ,r0,foundlist = predict_by_model(experiment,File = ObservationFile,lambdaVersion = \"Equilibrium\", verb = True)\n",
    "\n",
    "\n",
    "    cddelta = (zt.T[-1][-1] - zt.T[-1][0])/zt.T[-1][0]\n",
    "    found = len(foundlist)\n",
    "    total = len(spec_list)\n",
    "    biomass = sum(by_proportion[np.unique(foundlist)])\n",
    "    predictions.loc[exp] = [invSuc,cddelta,Qt,InvaderQ,r0 + InvaderQ,r0,found,total,biomass]"
   ]
  },
  {
   "cell_type": "markdown",
   "id": "charged-labor",
   "metadata": {},
   "source": [
    "For visualization, we'll add a column for the risk information contained in the mice labels."
   ]
  },
  {
   "cell_type": "code",
   "execution_count": null,
   "id": "designing-release",
   "metadata": {},
   "outputs": [],
   "source": [
    "predictions[\"CDiffRisk\"] = [r[0] for r in predictions.index]"
   ]
  },
  {
   "cell_type": "markdown",
   "id": "scientific-portland",
   "metadata": {},
   "source": [
    "And view the results:"
   ]
  },
  {
   "cell_type": "code",
   "execution_count": null,
   "id": "early-galaxy",
   "metadata": {},
   "outputs": [],
   "source": [
    "predictions"
   ]
  },
  {
   "cell_type": "markdown",
   "id": "respective-plane",
   "metadata": {},
   "source": [
    "Save the results as a csv:"
   ]
  },
  {
   "cell_type": "code",
   "execution_count": null,
   "id": "egyptian-johns",
   "metadata": {},
   "outputs": [],
   "source": [
    "predictions.to_csv(dirname + \"/micePredictionEqFit.csv\")"
   ]
  },
  {
   "cell_type": "code",
   "execution_count": null,
   "id": "infinite-sussex",
   "metadata": {},
   "outputs": [],
   "source": [
    "fig,ax = plt.subplots(figsize = (10,10))\n",
    "sb.stripplot(x = \"CDiffRisk\", y = \"CDiffDelta\",data = predictions, s=10, ax = ax)\n",
    "sb.boxplot(x = \"CDiffRisk\", y = \"CDiffDelta\",data = predictions,ax =ax)\n",
    "fig.savefig(dirname + \"/tutorialDelta.png\")"
   ]
  },
  {
   "cell_type": "code",
   "execution_count": null,
   "id": "trying-farming",
   "metadata": {},
   "outputs": [],
   "source": [
    "fig,ax = plt.subplots(figsize = (10,10))\n",
    "sb.stripplot(x = \"CDiffRisk\", y = \"InitialCDiffGrowth\",data = predictions, s=10, ax = ax)\n",
    "sb.boxplot(x = \"CDiffRisk\", y = \"InitialCDiffGrowth\",data = predictions,ax =ax)\n",
    "fig.savefig(dirname + \"/tutorialinitialgrowth.png\")"
   ]
  },
  {
   "cell_type": "code",
   "execution_count": null,
   "id": "naked-avatar",
   "metadata": {},
   "outputs": [],
   "source": [
    "fig,ax = plt.subplots(figsize = (10,10))\n",
    "sb.stripplot(x = \"CDiffRisk\", y = \"CDiffResistance\",data = predictions, s=10, ax = ax)\n",
    "sb.boxplot(x = \"CDiffRisk\", y = \"CDiffResistance\",data = predictions,ax =ax)\n",
    "fig.savefig(dirname + \"/tutorialresistance.png\")"
   ]
  },
  {
   "cell_type": "code",
   "execution_count": null,
   "id": "super-literature",
   "metadata": {},
   "outputs": [],
   "source": [
    "fig,ax = plt.subplots(figsize = (10,10))\n",
    "sb.stripplot(x = \"CDiffRisk\", y = \"CDiffPromotion\",data = predictions, s=10, ax = ax)\n",
    "sb.boxplot(x = \"CDiffRisk\", y = \"CDiffPromotion\",data = predictions,ax =ax)\n",
    "fig.savefig(dirname + \"/tutorialpromotion.png\")"
   ]
  },
  {
   "cell_type": "code",
   "execution_count": null,
   "id": "worst-success",
   "metadata": {},
   "outputs": [],
   "source": [
    "fig,ax = plt.subplots()\n",
    "sb.histplot(x =\"CDiffDelta\",hue = \"CDiffRisk\",data = predictions, ax = ax,bins = 100)\n",
    "fig.savefig(dirname + \"/tutorialdeltaHistogram.png\")"
   ]
  },
  {
   "cell_type": "markdown",
   "id": "backed-moore",
   "metadata": {},
   "source": [
    "## Part 2: Prediction of Community Equilibrium"
   ]
  },
  {
   "cell_type": "markdown",
   "id": "burning-implementation",
   "metadata": {},
   "source": [
    "It is simple to predict only the community equilibrium (assuming the community settles at one), without an invader. In fact, this is done in the above so that the invader is introduced at community equilibrium."
   ]
  },
  {
   "cell_type": "code",
   "execution_count": 8,
   "id": "double-missouri",
   "metadata": {},
   "outputs": [
    {
     "name": "stdout",
     "output_type": "stream",
     "text": [
      "Generating Lambdas\n",
      "Bacteroides_salanitronis not found\n",
      "Barnesiella_viscericola not found\n",
      "Prevotella_buccalis not found\n",
      "Prevotella_sp._109 not found\n",
      "Alistipes_obesi not found\n",
      "Clostridia_bacterium_UC5.1-1D1 not found\n",
      "[Ruminococcus]_torques not found\n",
      "[Clostridium]_celerecrescens not found\n",
      "Erysipelatoclostridium_ramosum not found\n",
      "Found 19/29 community members.\n",
      "Computing Community Equilibrium\n",
      "Generating Lambdas\n",
      "Bacteroides_salanitronis not found\n",
      "Barnesiella_viscericola not found\n",
      "Prevotella_buccalis not found\n",
      "Prevotella_sp._109 not found\n",
      "Alistipes_obesi not found\n",
      "Clostridia_bacterium_UC5.1-1D1 not found\n",
      "[Ruminococcus]_torques not found\n",
      "[Clostridium]_celerecrescens not found\n",
      "Erysipelatoclostridium_ramosum not found\n",
      "Found 18/28 community members.\n",
      "Computing Community Equilibrium\n",
      "Generating Lambdas\n",
      "Bacteroides_salanitronis not found\n",
      "Barnesiella_viscericola not found\n",
      "Prevotella_buccalis not found\n",
      "Prevotella_sp._109 not found\n",
      "Alistipes_obesi not found\n",
      "Clostridia_bacterium_UC5.1-1D1 not found\n",
      "[Ruminococcus]_torques not found\n",
      "[Clostridium]_celerecrescens not found\n",
      "Erysipelatoclostridium_ramosum not found\n",
      "Found 19/29 community members.\n",
      "Computing Community Equilibrium\n",
      "Generating Lambdas\n",
      "Bacteroides_salanitronis not found\n",
      "Barnesiella_viscericola not found\n",
      "Prevotella_buccalis not found\n",
      "Prevotella_sp._109 not found\n",
      "Alistipes_obesi not found\n",
      "Clostridia_bacterium_UC5.1-1D1 not found\n",
      "[Ruminococcus]_torques not found\n",
      "[Clostridium]_celerecrescens not found\n",
      "Erysipelatoclostridium_ramosum not found\n",
      "Found 18/28 community members.\n",
      "Computing Community Equilibrium\n",
      "Generating Lambdas\n",
      "Bacteroides_salanitronis not found\n",
      "Barnesiella_viscericola not found\n",
      "Coprobacter_fastidiosus not found\n",
      "Prevotella_buccalis not found\n",
      "Prevotella_sp._109 not found\n",
      "Alistipes_obesi not found\n",
      "Clostridia_bacterium_UC5.1-1D1 not found\n",
      "[Ruminococcus]_torques not found\n",
      "[Clostridium]_celerecrescens not found\n",
      "Erysipelatoclostridium_ramosum not found\n",
      "Found 18/29 community members.\n",
      "Computing Community Equilibrium\n",
      "Generating Lambdas\n",
      "Bacteroides_salanitronis not found\n",
      "Barnesiella_viscericola not found\n",
      "Coprobacter_fastidiosus not found\n",
      "Prevotella_buccalis not found\n",
      "Prevotella_sp._109 not found\n",
      "Alistipes_obesi not found\n",
      "Clostridia_bacterium_UC5.1-1D1 not found\n",
      "[Ruminococcus]_torques not found\n",
      "[Clostridium]_celerecrescens not found\n",
      "Erysipelatoclostridium_ramosum not found\n",
      "Found 17/28 community members.\n",
      "Computing Community Equilibrium\n",
      "Generating Lambdas\n",
      "Cellulomonas_carbonis not found\n",
      "Bacteroides_faecichinchillae not found\n",
      "Clostridium_sp._KLE_1755 not found\n",
      "Clostridium_sp._M62/1 not found\n",
      "Hungatella_hathewayi not found\n",
      "Blautia_sp._KLE_1732 not found\n",
      "[Ruminococcus]_torques not found\n",
      "Eisenbergiella_tayi not found\n",
      "[Clostridium]_bolteae not found\n",
      "[Clostridium]_citroniae not found\n",
      "[Clostridium]_symbiosum not found\n",
      "[Clostridium]_lactatifermentans not found\n",
      "Oscillibacter_sp._KLE_1745 not found\n",
      "Ruthenibacterium_lactatiformans not found\n",
      "Dielma_fastidiosa not found\n",
      "[Clostridium]_innocuum not found\n",
      "Found 33/49 community members.\n",
      "Computing Community Equilibrium\n",
      "Generating Lambdas\n",
      "Cellulomonas_carbonis not found\n",
      "Clostridiales_bacterium_1_7_47FAA not found\n",
      "Clostridium_sp._KLE_1755 not found\n",
      "Clostridium_sp._M62/1 not found\n",
      "Hungatella_hathewayi not found\n",
      "Blautia_sp._KLE_1732 not found\n",
      "[Ruminococcus]_torques not found\n",
      "Eisenbergiella_tayi not found\n",
      "[Clostridium]_bolteae not found\n",
      "[Clostridium]_citroniae not found\n",
      "[Clostridium]_symbiosum not found\n",
      "[Clostridium]_lactatifermentans not found\n",
      "Oscillibacter_sp._KLE_1745 not found\n",
      "Ruthenibacterium_lactatiformans not found\n",
      "Dielma_fastidiosa not found\n",
      "[Clostridium]_innocuum not found\n",
      "Found 31/47 community members.\n",
      "Computing Community Equilibrium\n",
      "Generating Lambdas\n",
      "Cellulomonas_carbonis not found\n",
      "Clostridium_sp._KLE_1755 not found\n",
      "Clostridium_sp._M62/1 not found\n",
      "Hungatella_hathewayi not found\n",
      "Blautia_sp._KLE_1732 not found\n",
      "Eisenbergiella_tayi not found\n",
      "[Clostridium]_bolteae not found\n",
      "[Clostridium]_citroniae not found\n",
      "[Clostridium]_symbiosum not found\n",
      "[Clostridium]_lactatifermentans not found\n",
      "Oscillibacter_sp._KLE_1745 not found\n",
      "Ruthenibacterium_lactatiformans not found\n",
      "Dielma_fastidiosa not found\n",
      "Found 35/48 community members.\n",
      "Computing Community Equilibrium\n",
      "Generating Lambdas\n",
      "Cellulomonas_carbonis not found\n",
      "Bacteroides_faecichinchillae not found\n",
      "Coprobacter_fastidiosus not found\n",
      "Clostridium_sp._KLE_1755 not found\n",
      "Clostridium_sp._M62/1 not found\n",
      "Hungatella_hathewayi not found\n",
      "Blautia_sp._KLE_1732 not found\n",
      "[Ruminococcus]_torques not found\n",
      "Eisenbergiella_tayi not found\n",
      "[Clostridium]_bolteae not found\n",
      "[Clostridium]_citroniae not found\n",
      "[Clostridium]_symbiosum not found\n",
      "[Clostridium]_lactatifermentans not found\n",
      "Oscillibacter_sp._KLE_1745 not found\n",
      "Ruthenibacterium_lactatiformans not found\n",
      "Dielma_fastidiosa not found\n",
      "Found 34/50 community members.\n",
      "Computing Community Equilibrium\n",
      "Generating Lambdas\n",
      "Cellulomonas_carbonis not found\n",
      "Bacteroides_faecichinchillae not found\n",
      "Alistipes_ihumii not found\n",
      "Alistipes_obesi not found\n",
      "Clostridiales_bacterium_1_7_47FAA not found\n",
      "Intestinimonas_butyriciproducens not found\n",
      "Clostridium_phoceensis not found\n",
      "Clostridium_sp._KLE_1755 not found\n",
      "Clostridium_sp._M62/1 not found\n",
      "Hungatella_hathewayi not found\n",
      "Blautia_sp._KLE_1732 not found\n",
      "[Ruminococcus]_torques not found\n",
      "Eisenbergiella_tayi not found\n",
      "[Clostridium]_asparagiforme not found\n",
      "[Clostridium]_bolteae not found\n",
      "[Clostridium]_citroniae not found\n",
      "[Clostridium]_glycyrrhizinilyticum not found\n",
      "[Clostridium]_symbiosum not found\n",
      "[Clostridium]_lactatifermentans not found\n",
      "Oscillibacter_sp._KLE_1745 not found\n",
      "Ruthenibacterium_lactatiformans not found\n",
      "Dielma_fastidiosa not found\n",
      "[Clostridium]_innocuum not found\n",
      "Found 32/55 community members.\n",
      "Computing Community Equilibrium\n",
      "Generating Lambdas\n",
      "Cellulomonas_carbonis not found\n",
      "Alistipes_obesi not found\n",
      "Clostridium_sp._KLE_1755 not found\n",
      "Clostridium_sp._M62/1 not found\n",
      "Hungatella_hathewayi not found\n",
      "Blautia_sp._KLE_1732 not found\n",
      "[Ruminococcus]_torques not found\n",
      "Eisenbergiella_tayi not found\n",
      "[Clostridium]_bolteae not found\n",
      "[Clostridium]_citroniae not found\n",
      "[Clostridium]_symbiosum not found\n",
      "[Clostridium]_lactatifermentans not found\n",
      "Oscillibacter_sp._KLE_1745 not found\n",
      "Ruthenibacterium_lactatiformans not found\n",
      "Dielma_fastidiosa not found\n",
      "Found 32/47 community members.\n",
      "Computing Community Equilibrium\n"
     ]
    }
   ],
   "source": [
    "CommunityEquilibrium = {}\n",
    "FoundLists = {}\n",
    "for exp in Experiments:\n",
    "\n",
    "    by_proportion = miceData[exp]/sum(miceData[exp])\n",
    "    spec_list = list(species[by_proportion>0.001])\n",
    "    by_proportion.index = species\n",
    "\n",
    "    Equilibrium,FoundList = predict_community(spec_list,File = ObservationFile,lambdaVersion = \"Equilibrium\", verb = True)\n",
    "\n",
    "    CommunityEquilibrium[exp] = Equilibrium\n",
    "    FoundLists[exp] = FoundList"
   ]
  },
  {
   "cell_type": "code",
   "execution_count": 10,
   "id": "narrow-proportion",
   "metadata": {},
   "outputs": [
    {
     "data": {
      "text/plain": [
       "{\"'Bacteroides_cellulosilyticus_DSM_14838.mat'\": 0.015998350555694478,\n",
       " \"'Bacteroides_coprocola_M16_DSM_17136.mat'\": 0.0027543098339544423,\n",
       " \"'Bacteroides_coprophilus_DSM_18228.mat'\": 0.046501316435283914,\n",
       " \"'Bacteroides_fluxus_YIT_12057.mat'\": 0.06467447128872617,\n",
       " \"'Bacteroides_oleiciplenus_YIT_12058.mat'\": 0.01322859921346306,\n",
       " \"'Bacteroides_ovatus_ATCC_8483.mat'\": 0.23038247507615695,\n",
       " \"'Bacteroides_plebeius_M12_DSM_17135.mat'\": 1.169797373316703e-30,\n",
       " \"'Bacteroides_salyersiae_WAL_10018.mat'\": 0.3048613228756983,\n",
       " \"'Bacteroides_stercoris_ATCC_43183.mat'\": 5.53303318229352e-25,\n",
       " \"'Bacteroides_thetaiotaomicron_VPI_5482.mat'\": -9.06526930761615e-21,\n",
       " \"'Bacteroides_uniformis_ATCC_8492.mat'\": 1.0312440340523299e-21,\n",
       " \"'Bacteroides_vulgatus_ATCC_8482.mat'\": 0.32159915472101874,\n",
       " \"'Bifidobacterium_animalis_lactis_AD011.mat'\": 3.8512363403267093e-35,\n",
       " \"'Enterococcus_faecalis_OG1RF_ATCC_47077.mat'\": 1.3237429789777517e-28,\n",
       " \"'Flavonifractor_plautii_ATCC_29863.mat'\": 7.943627747901585e-18,\n",
       " \"'Lactobacillus_plantarum_JDM1.mat'\": 3.408412950527533e-26,\n",
       " \"'Odoribacter_laneus_YIT_12061.mat'\": -1.7702330847078336e-29,\n",
       " \"'Parabacteroides_distasonis_ATCC_8503.mat'\": 1.0657578065338737e-35,\n",
       " \"'Parabacteroides_johnsonii_DSM_18315.mat'\": 2.7082035097987835e-17}"
      ]
     },
     "execution_count": 10,
     "metadata": {},
     "output_type": "execute_result"
    }
   ],
   "source": [
    "CommunityEquilibrium[\"H1_4WK\"]"
   ]
  },
  {
   "cell_type": "code",
   "execution_count": 19,
   "id": "urban-webcam",
   "metadata": {},
   "outputs": [
    {
     "data": {
      "text/plain": [
       "<AxesSubplot:>"
      ]
     },
     "execution_count": 19,
     "metadata": {},
     "output_type": "execute_result"
    },
    {
     "data": {
      "image/png": "[encoded data removed]",
      "text/plain": [
       "<Figure size 720x720 with 1 Axes>"
      ]
     },
     "metadata": {
      "needs_background": "light"
     },
     "output_type": "display_data"
    }
   ],
   "source": [
    "fig,ax = plt.subplots(figsize = (10,10))\n",
    "\n",
    "keys = list(CommunityEquilibrium[\"H1_4WK\"].keys())\n",
    "# get values in the same order as keys, and parse percentage values\n",
    "vals = [float(CommunityEquilibrium[\"H1_4WK\"][k]) for k in keys]\n",
    "sb.barplot(x=keys, y=vals, ax = ax)"
   ]
  },
  {
   "cell_type": "code",
   "execution_count": null,
   "id": "coated-ocean",
   "metadata": {},
   "outputs": [],
   "source": []
  }
 ],
 "metadata": {
  "kernelspec": {
   "display_name": "Python 3",
   "language": "python",
   "name": "python3"
  },
  "language_info": {
   "codemirror_mode": {
    "name": "ipython",
    "version": 3
   },
   "file_extension": ".py",
   "mimetype": "text/x-python",
   "name": "python",
   "nbconvert_exporter": "python",
   "pygments_lexer": "ipython3",
   "version": "3.7.9"
  }
 },
 "nbformat": 4,
 "nbformat_minor": 5
}
