{
  "nbformat": 4,
  "nbformat_minor": 0,
  "metadata": {
    "colab": {
      "name": "NetGPU.ipynb",
      "provenance": [],
      "authorship_tag": "ABX9TyM9VQ4xyh8sEa4mLc0xB/kS",
      "include_colab_link": true
    },
    "kernelspec": {
      "name": "python3",
      "display_name": "Python 3"
    },
    "language_info": {
      "name": "python"
    },
    "accelerator": "GPU"
  },
  "cells": [
    {
      "cell_type": "markdown",
      "metadata": {
        "id": "view-in-github",
        "colab_type": "text"
      },
      "source": [
        "<a href=\"https://colab.research.google.com/github/yashlal/Deepfake-Microbiomes/blob/main/NetGPU.ipynb\" target=\"_parent\"><img src=\"https://colab.research.google.com/assets/colab-badge.svg\" alt=\"Open In Colab\"/></a>"
      ]
    },
    {
      "cell_type": "code",
      "metadata": {
        "id": "8_Be9_icVmNu"
      },
      "source": [
        "import torch\n",
        "import torch.nn as nn\n",
        "import torch.nn.functional as F\n",
        "import pickle\n",
        "import numpy as np\n",
        "import torch.optim as optim\n",
        "import time\n",
        "from math import sqrt\n",
        "import matplotlib.pyplot as plt\n",
        "\n",
        "# select CUDA if available\n",
        "device = torch.device(\"cuda:0\" if torch.cuda.is_available() else \"cpu\")\n",
        "if str(device) == 'cuda:0':\n",
        "\tprint('CUDA device selected!')\n",
        "elif str(device) == 'cpu':\n",
        "\tprint('CUDA device not available. CPU selected')\n",
        "\n",
        "class MyNet(nn.Module):\n",
        "    def __init__(self):\n",
        "        super(MyNet, self).__init__()\n",
        "        self.fc1 = nn.Linear(462, 462*5)\n",
        "        self.fc2 = nn.Linear(462*5, 462*5)\n",
        "        self.fc3 = nn.Linear(462*5, 462*10)\n",
        "        self.fc4 = nn.Linear(462*10, 231*461)\n",
        "        self.dropout = nn.Dropout(0.1)\n",
        "    def forward(self,x):\n",
        "        x = F.relu(self.fc1(x))\n",
        "        x = self.dropout(x)\n",
        "        x = F.relu(self.fc2(x))\n",
        "        x = self.dropout(x)\n",
        "       \tx = F.relu(self.fc3(x))\n",
        "        x = self.dropout(x)\n",
        "        x = self.fc4(x)\n",
        "        return x\n",
        "\n",
        "net = MyNet().to(device)\n",
        "criterion = nn.MSELoss(reduction='mean')\n",
        "optimizer = optim.Adam(net.parameters(), lr=1e-4)\n",
        "\n",
        "loss_v = []\n",
        "\n",
        "for n in range(1,8):\n",
        "    d_PATH = f'drive/MyDrive/YashData/{n}'\n",
        "    f = open(d_PATH, 'rb')\n",
        "    data = pickle.load(f)\n",
        "\n",
        "    for i in range(1000):\n",
        "        optimizer.zero_grad()\n",
        "\n",
        "        input = torch.from_numpy(data[i][1]).float().to(device)\n",
        "        true_y = torch.FloatTensor(data[i][0]).to(device)\n",
        "\n",
        "        output = net(input).to(device)\n",
        "\n",
        "        loss = criterion(output, true_y).to(device)\n",
        "        loss_v.append(loss.item())\n",
        "        loss.backward()\n",
        "\n",
        "        optimizer.step()\n",
        "\n",
        "        print(f'File {n}: Epoch {i}: {sqrt(loss.item())}')\n",
        "\n",
        "PATH = 'model.pth'\n",
        "torch.save(net.state_dict(), PATH)\n",
        "\n",
        "plt.plot(loss_v)\n",
        "plt.show()\n",
        "plt.savefig('Loss.png')"
      ],
      "execution_count": null,
      "outputs": []
    }
  ]
}