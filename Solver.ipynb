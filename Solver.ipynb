{
  "nbformat": 4,
  "nbformat_minor": 0,
  "metadata": {
    "colab": {
      "name": "Untitled0.ipynb",
      "provenance": [],
      "authorship_tag": "ABX9TyNAzsSAuHmg/4iV4tMhUXnS",
      "include_colab_link": true
    },
    "kernelspec": {
      "name": "python3",
      "display_name": "Python 3"
    },
    "language_info": {
      "name": "python"
    }
  },
  "cells": [
    {
      "cell_type": "markdown",
      "metadata": {
        "id": "view-in-github",
        "colab_type": "text"
      },
      "source": [
        "<a href=\"https://colab.research.google.com/github/yashlal/Deepfake-Microbiomes/blob/main/Solver.ipynb\" target=\"_parent\"><img src=\"https://colab.research.google.com/assets/colab-badge.svg\" alt=\"Open In Colab\"/></a>"
      ]
    },
    {
      "cell_type": "code",
      "metadata": {
        "id": "fDNGCTO7wCav"
      },
      "source": [
        "import numpy as np\n",
        "import pandas as pd\n",
        "from scipy.integrate import ode\n",
        "import json\n",
        "from scipy.integrate import odeint\n",
        "from numba import njit\n",
        "import time\n",
        "\n",
        "@njit()\n",
        "def odeSys(t, zeta, Lambda):\n",
        "    z = np.exp(zeta)\n",
        "    term1 = np.dot(Lambda,z)\n",
        "    term2 = np.dot(z.T,term1)\n",
        "    dzetadt = term1-term2\n",
        "    return dzetadt\n",
        "\n",
        "def wrapper(LambdaMat):\n",
        "    return lambda t,zeta: odeSys(t, zeta, LambdaMat)\n",
        "\n",
        "def predict_community_fullnp(LambdaMat, comm, verb=False):\n",
        "\n",
        "    #this wrapper allows NJIT with odesys\n",
        "    f = wrapper(LambdaMat)\n",
        "\n",
        "    numComm = len(comm)\n",
        "    zeta0 = np.log(np.ones(numComm)/numComm)\n",
        "    t0 = 0\n",
        "\n",
        "    community = ode(f).set_integrator('lsoda')\n",
        "    community.set_initial_value(zeta0,t0)\n",
        "\n",
        "    t = [t0]\n",
        "    dt = 0.1\n",
        "    Z = [np.zeros_like(zeta0), np.zeros_like(zeta0), np.exp(zeta0)]\n",
        "\n",
        "    deriv_estimate = 1\n",
        "\n",
        "    if verb:\n",
        "        print(\"Computing Community Equilibrium...\")\n",
        "\n",
        "    while deriv_estimate>10**(-7) and t[-1]<500:\n",
        "        Z += [np.exp(community.integrate(community.t + dt))]\n",
        "        t += [community.t]\n",
        "        centered_differences = (Z[-1]-Z[-3])/(3*dt)\n",
        "        deriv_estimate = np.linalg.norm(centered_differences)\n",
        "        #deriv_estimate = np.sqrt(np.dot(centered_differences,centered_differences))\n",
        "\n",
        "\n",
        "    cm = Z[-1]\n",
        "\n",
        "    if np.sum(cm).round(3) != 1:\n",
        "        print(\"Error: zi do not sum to 1\", np.sum(cm))\n",
        "        # print(cm)\n",
        "        # df = pd.DataFrame(Z, columns=comm)\n",
        "        # df.to_excel('ZProblem.xlsx')\n",
        "        # df2 = pd.DataFrame(LambdaMat, index=comm, columns=comm)\n",
        "        # df2.to_excel('LamProblem.xlsx')\n",
        "        cm = np.array([])\n",
        "        return cm\n",
        "    elif np.min(cm).round(3) < 0:\n",
        "        print(\"Error: exists zi<0\", np.min(cm).round(3))\n",
        "        # print(cm)\n",
        "        # df = pd.DataFrame(Z, columns=comm)\n",
        "        # df.to_excel('ZProblem.xlsx')\n",
        "        # df2 = pd.DataFrame(LambdaMat, index=comm, columns=comm)\n",
        "        # df2.to_excel('LamProblem.xlsx')\n",
        "        cm = np.array([])\n",
        "        return cm\n",
        "\n",
        "    return cm\n"
      ],
      "execution_count": null,
      "outputs": []
    }
  ]
}