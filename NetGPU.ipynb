{
  "nbformat": 4,
  "nbformat_minor": 0,
  "metadata": {
    "colab": {
      "name": "NetGPU.ipynb",
      "provenance": []
    },
    "kernelspec": {
      "display_name": "Python 3",
      "name": "python3"
    },
    "language_info": {
      "name": "python"
    },
    "accelerator": "GPU"
  },
  "cells": [
    {
      "cell_type": "code",
      "metadata": {
        "colab": {
          "base_uri": "https://localhost:8080/",
          "height": 229
        },
        "id": "paPGcZD0gWd1",
        "outputId": "2724ddb5-5781-47f7-8a68-31134a511fc3"
      },
      "source": [
        "import torch\n",
        "import torch.nn as nn\n",
        "import torch.nn.functional as F\n",
        "import pickle\n",
        "import numpy as np\n",
        "import torch.optim as optim\n",
        "import time\n",
        "\n",
        "\n",
        "device = torch.device('cuda' if torch.cuda.is_available() else 'cpu')\n",
        "\n",
        "class MyNet(nn.Module):\n",
        "    def __init__(self):\n",
        "        super(MyNet, self).__init__()\n",
        "        self.fc1 = nn.Linear(462, 462)\n",
        "        self.fc2 = nn.Linear(462, 462*5)\n",
        "        self.fc3 = nn.Linear(462*5, 231*461)\n",
        "    def forward(self,x):\n",
        "        x = F.relu(self.fc1(x))\n",
        "        x = F.relu(self.fc2(x))\n",
        "        x = self.fc3(x)\n",
        "        return x\n",
        "\n",
        "net = MyNet().to(device)\n",
        "\n",
        "# for n in range(1,151):\n",
        "#     PATH = 'Data/Train1-150/' + str(n)\n",
        "f = open(r\"C:\\Users\\Yash Lal\\Desktop\\Deepfake-Microbiomes\\Data\\Train1-150\\1\", 'rb')\n",
        "data = pickle.load(f)\n",
        "\n",
        "criterion = nn.MSELoss(reduction='sum')\n",
        "optimizer = optim.SGD(net.parameters(), lr=0.01)\n",
        "\n",
        "for i in range(100):\n",
        "    start = time.time()\n",
        "    print(i)\n",
        "\n",
        "    optimizer.zero_grad()\n",
        "\n",
        "    t1=time.time()\n",
        "    input = torch.from_numpy(data[i][1]).float().to(device)\n",
        "    true_y = torch.FloatTensor(data[i][0])\n",
        "    print(time.time()-t1)\n",
        "\n",
        "    t2=time.time()\n",
        "    output = net(input)\n",
        "    print(time.time()-t2)\n",
        "\n",
        "    t3=time.time()\n",
        "    loss = criterion(output, true_y)\n",
        "    print(loss)\n",
        "    print(time.time()-t3)\n",
        "\n",
        "    t4=time.time()\n",
        "    loss.backward()\n",
        "    print(time.time()-t4)\n",
        "\n",
        "    t5=time.time()\n",
        "    optimizer.step()\n",
        "    print(time.time()-t5)\n",
        "\n",
        "    print(time.time()-start)\n",
        "\n",
        "# PATH = 'model.pth'\n",
        "# torch.save(net.state_dict(), PATH)\n"
      ],
      "execution_count": 5,
      "outputs": [
        {
          "output_type": "error",
          "ename": "FileNotFoundError",
          "evalue": "ignored",
          "traceback": [
            "\u001b[0;31m---------------------------------------------------------------------------\u001b[0m",
            "\u001b[0;31mFileNotFoundError\u001b[0m                         Traceback (most recent call last)",
            "\u001b[0;32m<ipython-input-5-24afef182031>\u001b[0m in \u001b[0;36m<module>\u001b[0;34m()\u001b[0m\n\u001b[1;32m     26\u001b[0m \u001b[0;31m# for n in range(1,151):\u001b[0m\u001b[0;34m\u001b[0m\u001b[0;34m\u001b[0m\u001b[0;34m\u001b[0m\u001b[0m\n\u001b[1;32m     27\u001b[0m \u001b[0;31m#     PATH = 'Data/Train1-150/' + str(n)\u001b[0m\u001b[0;34m\u001b[0m\u001b[0;34m\u001b[0m\u001b[0;34m\u001b[0m\u001b[0m\n\u001b[0;32m---> 28\u001b[0;31m \u001b[0mf\u001b[0m \u001b[0;34m=\u001b[0m \u001b[0mopen\u001b[0m\u001b[0;34m(\u001b[0m\u001b[0;34mr\"C:\\Users\\Yash Lal\\Desktop\\Deepfake-Microbiomes\\Data\\Train1-150\\1\"\u001b[0m\u001b[0;34m,\u001b[0m \u001b[0;34m'rb'\u001b[0m\u001b[0;34m)\u001b[0m\u001b[0;34m\u001b[0m\u001b[0;34m\u001b[0m\u001b[0m\n\u001b[0m\u001b[1;32m     29\u001b[0m \u001b[0mdata\u001b[0m \u001b[0;34m=\u001b[0m \u001b[0mpickle\u001b[0m\u001b[0;34m.\u001b[0m\u001b[0mload\u001b[0m\u001b[0;34m(\u001b[0m\u001b[0mf\u001b[0m\u001b[0;34m)\u001b[0m\u001b[0;34m\u001b[0m\u001b[0;34m\u001b[0m\u001b[0m\n\u001b[1;32m     30\u001b[0m \u001b[0;34m\u001b[0m\u001b[0m\n",
            "\u001b[0;31mFileNotFoundError\u001b[0m: [Errno 2] No such file or directory: 'C:\\\\Users\\\\Yash Lal\\\\Desktop\\\\Deepfake-Microbiomes\\\\Data\\\\Train1-150\\\\1'"
          ]
        }
      ]
    }
  ]
}