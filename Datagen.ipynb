{
  "nbformat": 4,
  "nbformat_minor": 0,
  "metadata": {
    "colab": {
      "name": "Untitled1.ipynb",
      "provenance": [],
      "authorship_tag": "ABX9TyMxW4c/PHQF2EBT3yWg5wvb",
      "include_colab_link": true
    },
    "kernelspec": {
      "name": "python3",
      "display_name": "Python 3"
    },
    "language_info": {
      "name": "python"
    }
  },
  "cells": [
    {
      "cell_type": "markdown",
      "metadata": {
        "id": "view-in-github",
        "colab_type": "text"
      },
      "source": [
        "<a href=\"https://colab.research.google.com/github/yashlal/Deepfake-Microbiomes/blob/main/Datagen.ipynb\" target=\"_parent\"><img src=\"https://colab.research.google.com/assets/colab-badge.svg\" alt=\"Open In Colab\"/></a>"
      ]
    },
    {
      "cell_type": "code",
      "metadata": {
        "id": "Cewq-5UMwajG"
      },
      "source": [
        "from newsolver import predict_community_fullnp\n",
        "import numpy as np\n",
        "import pandas as pd\n",
        "import random as rd\n",
        "import time\n",
        "from numba import njit\n",
        "from numba.typed import List\n",
        "import pickle\n",
        "\n",
        "data = pd.read_excel('RealData.xlsx', index_col=0)\n",
        "specs = data.columns.tolist()\n",
        "trimmed_specs = []\n",
        "\n",
        "for i in range(len(specs)):\n",
        "    if data.iloc[:,i].astype(bool).sum() >= 85:\n",
        "        trimmed_specs.append(specs[i])\n",
        "dim1 = len(trimmed_specs)\n",
        "\n",
        "typed_trimmed_specs = List()\n",
        "[typed_trimmed_specs.append(x) for x in trimmed_specs]\n",
        "\n",
        "@njit()\n",
        "def get_LT(full_ar):\n",
        "    ar = []\n",
        "    for i in range(len(full_ar)):\n",
        "        for j in range(i):\n",
        "            ar.append(full_ar[i][j])\n",
        "    return ar\n",
        "\n",
        "@njit()\n",
        "def generate_matrix(comm, tolerance):\n",
        "    dim = len(comm)\n",
        "    ar = np.zeros((dim,dim))\n",
        "\n",
        "    for i in range(dim):\n",
        "        for j in range(i+1):\n",
        "            if i == j:\n",
        "                ar[i][j] = 0\n",
        "            else:\n",
        "                r = rd.random()\n",
        "                # m = mult[i*dim1+j]\n",
        "                ar[i][j] = r\n",
        "                ar[j][i] = (1-r)\n",
        "\n",
        "    return ar\n",
        "\n",
        "def datagen(n):\n",
        "    datastorage = []\n",
        "    epoch = 1\n",
        "    saves = 1000\n",
        "\n",
        "    while epoch <= n:\n",
        "\n",
        "        print(epoch)\n",
        "        lm = generate_matrix(typed_trimmed_specs, 0)\n",
        "        cm = predict_community_fullnp(lm, trimmed_specs, verb=False)\n",
        "\n",
        "        if cm.shape[0]==0:\n",
        "            continue\n",
        "        else:\n",
        "            data_object = [get_LT(lm), cm]\n",
        "            datastorage.append(data_object)\n",
        "\n",
        "            if (len(datastorage) % 10)==0:\n",
        "                PTH = 'Data/' + str(saves)\n",
        "                outfile = open(PTH, 'wb')\n",
        "                pickle.dump(datastorage, outfile)\n",
        "                outfile.close()\n",
        "                datastorage.clear()\n",
        "                saves += 1\n",
        "\n",
        "            epoch += 1\n",
        "\n",
        "datagen(10)\n"
      ],
      "execution_count": null,
      "outputs": []
    }
  ]
}